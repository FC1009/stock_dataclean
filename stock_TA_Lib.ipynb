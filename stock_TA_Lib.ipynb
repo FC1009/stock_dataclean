{
 "cells": [
  {
   "cell_type": "code",
   "execution_count": 3,
   "metadata": {},
   "outputs": [],
   "source": [
    "import pandas as pd\n",
    "import pyhdfs"
   ]
  },
  {
   "cell_type": "code",
   "execution_count": 4,
   "metadata": {},
   "outputs": [],
   "source": [
    "client = pyhdfs.HdfsClient(hosts=\"10.120.26.200,50070\",user_name=\"spark\")"
   ]
  },
  {
   "cell_type": "code",
   "execution_count": 5,
   "metadata": {},
   "outputs": [],
   "source": [
    "select_stock = \"1101.TW.csv\"\n",
    "stock_loc = '/user/spark/spark101/spark203/'"
   ]
  },
  {
   "cell_type": "code",
   "execution_count": 6,
   "metadata": {},
   "outputs": [],
   "source": [
    "\n",
    "with client.open(f'{stock_loc}{select_stock}') as inputfile:\n",
    "    df =  pd.read_csv(inputfile,index_col ='Date')"
   ]
  },
  {
   "cell_type": "code",
   "execution_count": 37,
   "metadata": {},
   "outputs": [],
   "source": [
    "df.columns = map(str.lower, df.columns)\n",
    "df = df.dropna().astype(float)\n",
    "df = df[df['volume'] != 0]"
   ]
  },
  {
   "cell_type": "code",
   "execution_count": 38,
   "metadata": {},
   "outputs": [],
   "source": [
    "import talib\n",
    "from talib import abstract\n",
    "# import yfinance as yf"
   ]
  },
  {
   "cell_type": "code",
   "execution_count": 39,
   "metadata": {
    "tags": []
   },
   "outputs": [
    {
     "output_type": "stream",
     "name": "stdout",
     "text": "STOCH([input_arrays], [fastk_period=5], [slowk_period=3], [slowk_matype=0], [slowd_period=3], [slowd_matype=0])\n\nStochastic (Momentum Indicators)\n\nInputs:\n    prices: ['high', 'low', 'close']\nParameters:\n    fastk_period: 5\n    slowk_period: 3\n    slowk_matype: 0\n    slowd_period: 3\n    slowd_matype: 0\nOutputs:\n    slowk\n    slowd\n"
    }
   ],
   "source": [
    "print(abstract.STOCH)"
   ]
  },
  {
   "cell_type": "code",
   "execution_count": 40,
   "metadata": {
    "tags": []
   },
   "outputs": [
    {
     "output_type": "execute_result",
     "data": {
      "text/plain": "                slowk      slowd\nDate                            \n2000-01-04        NaN        NaN\n2000-01-05        NaN        NaN\n2000-01-06        NaN        NaN\n2000-01-07        NaN        NaN\n2000-01-10        NaN        NaN\n...               ...        ...\n2020-08-04  64.896620  63.157775\n2020-08-05  77.195691  67.902025\n2020-08-06  92.433767  78.175359\n2020-08-07  93.258903  87.629454\n2020-08-10  86.399671  90.697447\n\n[5044 rows x 2 columns]",
      "text/html": "<div>\n<style scoped>\n    .dataframe tbody tr th:only-of-type {\n        vertical-align: middle;\n    }\n\n    .dataframe tbody tr th {\n        vertical-align: top;\n    }\n\n    .dataframe thead th {\n        text-align: right;\n    }\n</style>\n<table border=\"1\" class=\"dataframe\">\n  <thead>\n    <tr style=\"text-align: right;\">\n      <th></th>\n      <th>slowk</th>\n      <th>slowd</th>\n    </tr>\n    <tr>\n      <th>Date</th>\n      <th></th>\n      <th></th>\n    </tr>\n  </thead>\n  <tbody>\n    <tr>\n      <th>2000-01-04</th>\n      <td>NaN</td>\n      <td>NaN</td>\n    </tr>\n    <tr>\n      <th>2000-01-05</th>\n      <td>NaN</td>\n      <td>NaN</td>\n    </tr>\n    <tr>\n      <th>2000-01-06</th>\n      <td>NaN</td>\n      <td>NaN</td>\n    </tr>\n    <tr>\n      <th>2000-01-07</th>\n      <td>NaN</td>\n      <td>NaN</td>\n    </tr>\n    <tr>\n      <th>2000-01-10</th>\n      <td>NaN</td>\n      <td>NaN</td>\n    </tr>\n    <tr>\n      <th>...</th>\n      <td>...</td>\n      <td>...</td>\n    </tr>\n    <tr>\n      <th>2020-08-04</th>\n      <td>64.896620</td>\n      <td>63.157775</td>\n    </tr>\n    <tr>\n      <th>2020-08-05</th>\n      <td>77.195691</td>\n      <td>67.902025</td>\n    </tr>\n    <tr>\n      <th>2020-08-06</th>\n      <td>92.433767</td>\n      <td>78.175359</td>\n    </tr>\n    <tr>\n      <th>2020-08-07</th>\n      <td>93.258903</td>\n      <td>87.629454</td>\n    </tr>\n    <tr>\n      <th>2020-08-10</th>\n      <td>86.399671</td>\n      <td>90.697447</td>\n    </tr>\n  </tbody>\n</table>\n<p>5044 rows × 2 columns</p>\n</div>"
     },
     "metadata": {},
     "execution_count": 40
    }
   ],
   "source": [
    "kd = abstract.STOCH(df, fastk_period = 9)\n",
    "kd"
   ]
  },
  {
   "cell_type": "code",
   "execution_count": 41,
   "metadata": {
    "tags": []
   },
   "outputs": [
    {
     "output_type": "stream",
     "name": "stdout",
     "text": "MACD([input_arrays], [fastperiod=12], [slowperiod=26], [signalperiod=9])\n\nMoving Average Convergence/Divergence (Momentum Indicators)\n\nInputs:\n    price: (any ndarray)\nParameters:\n    fastperiod: 12\n    slowperiod: 26\n    signalperiod: 9\nOutputs:\n    macd\n    macdsignal\n    macdhist\n"
    }
   ],
   "source": [
    "print(abstract.MACD)"
   ]
  },
  {
   "cell_type": "code",
   "execution_count": 42,
   "metadata": {},
   "outputs": [
    {
     "output_type": "execute_result",
     "data": {
      "text/plain": "pandas.core.frame.DataFrame"
     },
     "metadata": {},
     "execution_count": 42
    }
   ],
   "source": [
    "macd = abstract.MACD(df)\n",
    "type(macd)"
   ]
  },
  {
   "cell_type": "code",
   "execution_count": 43,
   "metadata": {
    "tags": []
   },
   "outputs": [
    {
     "output_type": "stream",
     "name": "stdout",
     "text": "WILLR([input_arrays], [timeperiod=14])\n\nWilliams' %R (Momentum Indicators)\n\nInputs:\n    prices: ['high', 'low', 'close']\nParameters:\n    timeperiod: 14\nOutputs:\n    real\n"
    }
   ],
   "source": [
    "print(abstract.WILLR)"
   ]
  },
  {
   "cell_type": "code",
   "execution_count": 44,
   "metadata": {},
   "outputs": [
    {
     "output_type": "execute_result",
     "data": {
      "text/plain": "                willr\nDate                 \n2000-01-04        NaN\n2000-01-05        NaN\n2000-01-06        NaN\n2000-01-07        NaN\n2000-01-10        NaN\n...               ...\n2020-08-04 -22.222068\n2020-08-05  -7.547202\n2020-08-06  -0.000000\n2020-08-07 -12.676088\n2020-08-10 -25.352035\n\n[5044 rows x 1 columns]",
      "text/html": "<div>\n<style scoped>\n    .dataframe tbody tr th:only-of-type {\n        vertical-align: middle;\n    }\n\n    .dataframe tbody tr th {\n        vertical-align: top;\n    }\n\n    .dataframe thead th {\n        text-align: right;\n    }\n</style>\n<table border=\"1\" class=\"dataframe\">\n  <thead>\n    <tr style=\"text-align: right;\">\n      <th></th>\n      <th>willr</th>\n    </tr>\n    <tr>\n      <th>Date</th>\n      <th></th>\n    </tr>\n  </thead>\n  <tbody>\n    <tr>\n      <th>2000-01-04</th>\n      <td>NaN</td>\n    </tr>\n    <tr>\n      <th>2000-01-05</th>\n      <td>NaN</td>\n    </tr>\n    <tr>\n      <th>2000-01-06</th>\n      <td>NaN</td>\n    </tr>\n    <tr>\n      <th>2000-01-07</th>\n      <td>NaN</td>\n    </tr>\n    <tr>\n      <th>2000-01-10</th>\n      <td>NaN</td>\n    </tr>\n    <tr>\n      <th>...</th>\n      <td>...</td>\n    </tr>\n    <tr>\n      <th>2020-08-04</th>\n      <td>-22.222068</td>\n    </tr>\n    <tr>\n      <th>2020-08-05</th>\n      <td>-7.547202</td>\n    </tr>\n    <tr>\n      <th>2020-08-06</th>\n      <td>-0.000000</td>\n    </tr>\n    <tr>\n      <th>2020-08-07</th>\n      <td>-12.676088</td>\n    </tr>\n    <tr>\n      <th>2020-08-10</th>\n      <td>-25.352035</td>\n    </tr>\n  </tbody>\n</table>\n<p>5044 rows × 1 columns</p>\n</div>"
     },
     "metadata": {},
     "execution_count": 44
    }
   ],
   "source": [
    "willr = abstract.WILLR(df)\n",
    "willr = willr.to_frame()\n",
    "willr.columns=['willr']\n",
    "willr"
   ]
  },
  {
   "cell_type": "code",
   "execution_count": 45,
   "metadata": {
    "tags": []
   },
   "outputs": [
    {
     "output_type": "stream",
     "name": "stdout",
     "text": "BBANDS([input_arrays], [timeperiod=5], [nbdevup=2], [nbdevdn=2], [matype=0])\n\nBollinger Bands (Overlap Studies)\n\nInputs:\n    price: (any ndarray)\nParameters:\n    timeperiod: 5\n    nbdevup: 2\n    nbdevdn: 2\n    matype: 0 (Simple Moving Average)\nOutputs:\n    upperband\n    middleband\n    lowerband\n"
    }
   ],
   "source": [
    "print(abstract.BBANDS)"
   ]
  },
  {
   "cell_type": "code",
   "execution_count": 46,
   "metadata": {},
   "outputs": [
    {
     "output_type": "execute_result",
     "data": {
      "text/plain": "pandas.core.frame.DataFrame"
     },
     "metadata": {},
     "execution_count": 46
    }
   ],
   "source": [
    "bband = abstract.BBANDS(df,timeperiod = 20)\n",
    "type(bband)"
   ]
  },
  {
   "cell_type": "code",
   "execution_count": 47,
   "metadata": {},
   "outputs": [
    {
     "output_type": "execute_result",
     "data": {
      "text/plain": "                 open       high        low      close  adj close  \\\nDate                                                                \n2000-01-04  17.805401  18.226801  17.805401  18.226801   7.236699   \n2000-01-05  17.858000  19.174999  17.858000  18.700899   7.424934   \n2000-01-06  18.542900  18.753599  17.752701  17.910700   7.111196   \n2000-01-07  17.173201  17.963400  16.857100  17.858000   7.090272   \n2000-01-10  17.910700  18.542900  17.647301  18.437500   7.320355   \n...               ...        ...        ...        ...        ...   \n2020-08-04  44.950001  45.650002  44.950001  45.400002  45.400002   \n2020-08-05  45.599998  46.650002  45.599998  46.450001  46.450001   \n2020-08-06  46.950001  47.150002  46.500000  47.150002  47.150002   \n2020-08-07  47.500000  47.549999  46.950001  47.099998  47.099998   \n2020-08-10  46.900002  47.000000  46.500000  46.650002  46.650002   \n\n                  volume      slowk      slowd      macd  macdsignal  \\\nDate                                                                   \n2000-01-04  9.716852e+10        NaN        NaN       NaN         NaN   \n2000-01-05  1.499255e+11        NaN        NaN       NaN         NaN   \n2000-01-06  7.448073e+10        NaN        NaN       NaN         NaN   \n2000-01-07  8.759947e+10        NaN        NaN       NaN         NaN   \n2000-01-10  7.871879e+10        NaN        NaN       NaN         NaN   \n...                  ...        ...        ...       ...         ...   \n2020-08-04  2.088774e+07  64.896620  63.157775  0.346311    0.413200   \n2020-08-05  4.054277e+07  77.195691  67.902025  0.432534    0.417067   \n2020-08-06  3.407786e+07  92.433767  78.175359  0.551000    0.443853   \n2020-08-07  3.053396e+07  93.258903  87.629454  0.633547    0.481792   \n2020-08-10  1.624200e+07  86.399671  90.697447  0.655103    0.516454   \n\n            macdhist      willr  upperband  middleband  lowerband  \nDate                                                               \n2000-01-04       NaN        NaN        NaN         NaN        NaN  \n2000-01-05       NaN        NaN        NaN         NaN        NaN  \n2000-01-06       NaN        NaN        NaN         NaN        NaN  \n2000-01-07       NaN        NaN        NaN         NaN        NaN  \n2000-01-10       NaN        NaN        NaN         NaN        NaN  \n...              ...        ...        ...         ...        ...  \n2020-08-04 -0.066889 -22.222068  45.787382     45.1200  44.452617  \n2020-08-05  0.015468  -7.547202  46.069364     45.1850  44.300635  \n2020-08-06  0.107147  -0.000000  46.509359     45.2775  44.045641  \n2020-08-07  0.151755 -12.676088  46.838994     45.3850  43.931005  \n2020-08-10  0.138649 -25.352035  47.008718     45.4575  43.906282  \n\n[5044 rows x 15 columns]",
      "text/html": "<div>\n<style scoped>\n    .dataframe tbody tr th:only-of-type {\n        vertical-align: middle;\n    }\n\n    .dataframe tbody tr th {\n        vertical-align: top;\n    }\n\n    .dataframe thead th {\n        text-align: right;\n    }\n</style>\n<table border=\"1\" class=\"dataframe\">\n  <thead>\n    <tr style=\"text-align: right;\">\n      <th></th>\n      <th>open</th>\n      <th>high</th>\n      <th>low</th>\n      <th>close</th>\n      <th>adj close</th>\n      <th>volume</th>\n      <th>slowk</th>\n      <th>slowd</th>\n      <th>macd</th>\n      <th>macdsignal</th>\n      <th>macdhist</th>\n      <th>willr</th>\n      <th>upperband</th>\n      <th>middleband</th>\n      <th>lowerband</th>\n    </tr>\n    <tr>\n      <th>Date</th>\n      <th></th>\n      <th></th>\n      <th></th>\n      <th></th>\n      <th></th>\n      <th></th>\n      <th></th>\n      <th></th>\n      <th></th>\n      <th></th>\n      <th></th>\n      <th></th>\n      <th></th>\n      <th></th>\n      <th></th>\n    </tr>\n  </thead>\n  <tbody>\n    <tr>\n      <th>2000-01-04</th>\n      <td>17.805401</td>\n      <td>18.226801</td>\n      <td>17.805401</td>\n      <td>18.226801</td>\n      <td>7.236699</td>\n      <td>9.716852e+10</td>\n      <td>NaN</td>\n      <td>NaN</td>\n      <td>NaN</td>\n      <td>NaN</td>\n      <td>NaN</td>\n      <td>NaN</td>\n      <td>NaN</td>\n      <td>NaN</td>\n      <td>NaN</td>\n    </tr>\n    <tr>\n      <th>2000-01-05</th>\n      <td>17.858000</td>\n      <td>19.174999</td>\n      <td>17.858000</td>\n      <td>18.700899</td>\n      <td>7.424934</td>\n      <td>1.499255e+11</td>\n      <td>NaN</td>\n      <td>NaN</td>\n      <td>NaN</td>\n      <td>NaN</td>\n      <td>NaN</td>\n      <td>NaN</td>\n      <td>NaN</td>\n      <td>NaN</td>\n      <td>NaN</td>\n    </tr>\n    <tr>\n      <th>2000-01-06</th>\n      <td>18.542900</td>\n      <td>18.753599</td>\n      <td>17.752701</td>\n      <td>17.910700</td>\n      <td>7.111196</td>\n      <td>7.448073e+10</td>\n      <td>NaN</td>\n      <td>NaN</td>\n      <td>NaN</td>\n      <td>NaN</td>\n      <td>NaN</td>\n      <td>NaN</td>\n      <td>NaN</td>\n      <td>NaN</td>\n      <td>NaN</td>\n    </tr>\n    <tr>\n      <th>2000-01-07</th>\n      <td>17.173201</td>\n      <td>17.963400</td>\n      <td>16.857100</td>\n      <td>17.858000</td>\n      <td>7.090272</td>\n      <td>8.759947e+10</td>\n      <td>NaN</td>\n      <td>NaN</td>\n      <td>NaN</td>\n      <td>NaN</td>\n      <td>NaN</td>\n      <td>NaN</td>\n      <td>NaN</td>\n      <td>NaN</td>\n      <td>NaN</td>\n    </tr>\n    <tr>\n      <th>2000-01-10</th>\n      <td>17.910700</td>\n      <td>18.542900</td>\n      <td>17.647301</td>\n      <td>18.437500</td>\n      <td>7.320355</td>\n      <td>7.871879e+10</td>\n      <td>NaN</td>\n      <td>NaN</td>\n      <td>NaN</td>\n      <td>NaN</td>\n      <td>NaN</td>\n      <td>NaN</td>\n      <td>NaN</td>\n      <td>NaN</td>\n      <td>NaN</td>\n    </tr>\n    <tr>\n      <th>...</th>\n      <td>...</td>\n      <td>...</td>\n      <td>...</td>\n      <td>...</td>\n      <td>...</td>\n      <td>...</td>\n      <td>...</td>\n      <td>...</td>\n      <td>...</td>\n      <td>...</td>\n      <td>...</td>\n      <td>...</td>\n      <td>...</td>\n      <td>...</td>\n      <td>...</td>\n    </tr>\n    <tr>\n      <th>2020-08-04</th>\n      <td>44.950001</td>\n      <td>45.650002</td>\n      <td>44.950001</td>\n      <td>45.400002</td>\n      <td>45.400002</td>\n      <td>2.088774e+07</td>\n      <td>64.896620</td>\n      <td>63.157775</td>\n      <td>0.346311</td>\n      <td>0.413200</td>\n      <td>-0.066889</td>\n      <td>-22.222068</td>\n      <td>45.787382</td>\n      <td>45.1200</td>\n      <td>44.452617</td>\n    </tr>\n    <tr>\n      <th>2020-08-05</th>\n      <td>45.599998</td>\n      <td>46.650002</td>\n      <td>45.599998</td>\n      <td>46.450001</td>\n      <td>46.450001</td>\n      <td>4.054277e+07</td>\n      <td>77.195691</td>\n      <td>67.902025</td>\n      <td>0.432534</td>\n      <td>0.417067</td>\n      <td>0.015468</td>\n      <td>-7.547202</td>\n      <td>46.069364</td>\n      <td>45.1850</td>\n      <td>44.300635</td>\n    </tr>\n    <tr>\n      <th>2020-08-06</th>\n      <td>46.950001</td>\n      <td>47.150002</td>\n      <td>46.500000</td>\n      <td>47.150002</td>\n      <td>47.150002</td>\n      <td>3.407786e+07</td>\n      <td>92.433767</td>\n      <td>78.175359</td>\n      <td>0.551000</td>\n      <td>0.443853</td>\n      <td>0.107147</td>\n      <td>-0.000000</td>\n      <td>46.509359</td>\n      <td>45.2775</td>\n      <td>44.045641</td>\n    </tr>\n    <tr>\n      <th>2020-08-07</th>\n      <td>47.500000</td>\n      <td>47.549999</td>\n      <td>46.950001</td>\n      <td>47.099998</td>\n      <td>47.099998</td>\n      <td>3.053396e+07</td>\n      <td>93.258903</td>\n      <td>87.629454</td>\n      <td>0.633547</td>\n      <td>0.481792</td>\n      <td>0.151755</td>\n      <td>-12.676088</td>\n      <td>46.838994</td>\n      <td>45.3850</td>\n      <td>43.931005</td>\n    </tr>\n    <tr>\n      <th>2020-08-10</th>\n      <td>46.900002</td>\n      <td>47.000000</td>\n      <td>46.500000</td>\n      <td>46.650002</td>\n      <td>46.650002</td>\n      <td>1.624200e+07</td>\n      <td>86.399671</td>\n      <td>90.697447</td>\n      <td>0.655103</td>\n      <td>0.516454</td>\n      <td>0.138649</td>\n      <td>-25.352035</td>\n      <td>47.008718</td>\n      <td>45.4575</td>\n      <td>43.906282</td>\n    </tr>\n  </tbody>\n</table>\n<p>5044 rows × 15 columns</p>\n</div>"
     },
     "metadata": {},
     "execution_count": 47
    }
   ],
   "source": [
    "pdList =[df, kd, macd, willr, bband]\n",
    "summary_df = pd.concat(pdList, join='outer',axis=1)\n",
    "summary_df"
   ]
  },
  {
   "cell_type": "code",
   "execution_count": 48,
   "metadata": {},
   "outputs": [],
   "source": [
    "# sma_5 = abstract.SMA(df,timeperiod=5)\n",
    "# ema_5 = abstract.EMA(df,timeperiod=5)\n",
    "# wma_5 = abstract.WMA(df,timeperiod=5)\n"
   ]
  },
  {
   "cell_type": "code",
   "execution_count": 49,
   "metadata": {},
   "outputs": [],
   "source": [
    "# sma_10 = abstract.SMA(df,timeperiod=10)\n",
    "# ema_10 = abstract.EMA(df,timeperiod=10)\n",
    "# wma_10 = abstract.WMA(df,timeperiod=10)"
   ]
  },
  {
   "cell_type": "code",
   "execution_count": 50,
   "metadata": {},
   "outputs": [],
   "source": [
    "# sma_25 = abstract.SMA(df,timeperiod=25)\n",
    "# ema_25 = abstract.EMA(df,timeperiod=25)\n",
    "# wma_25 = abstract.WMA(df,timeperiod=25)"
   ]
  },
  {
   "cell_type": "code",
   "execution_count": 51,
   "metadata": {},
   "outputs": [],
   "source": [
    "# sma_50 = abstract.SMA(df,timeperiod=50)\n",
    "# ema_50 = abstract.EMA(df,timeperiod=50)\n",
    "# wma_50 = abstract.WMA(df,timeperiod=50)"
   ]
  },
  {
   "cell_type": "code",
   "execution_count": 52,
   "metadata": {},
   "outputs": [],
   "source": [
    "# sma_60 = abstract.SMA(df,timeperiod=60)\n",
    "# ema_60 = abstract.EMA(df,timeperiod=60)\n",
    "# wma_60 = abstract.WMA(df,timeperiod=60)"
   ]
  },
  {
   "cell_type": "code",
   "execution_count": 53,
   "metadata": {},
   "outputs": [],
   "source": [
    "# sma_300 = abstract.SMA(df,timeperiod=300)\n",
    "# ema_300 = abstract.EMA(df,timeperiod=300)\n",
    "# wma_300 = abstract.WMA(df,timeperiod=300)"
   ]
  },
  {
   "cell_type": "code",
   "execution_count": 54,
   "metadata": {},
   "outputs": [],
   "source": [
    "def ma_by_day(days,df):\n",
    "    ma_df = pd.DataFrame()\n",
    "    sma = abstract.SMA(df,timeperiod=days)\n",
    "    ema = abstract.EMA(df,timeperiod=days)\n",
    "    wma = abstract.WMA(df,timeperiod=days)\n",
    "    ma_columns = [f'sma_{days}',f'ema_{days}',f'wma_{days}']\n",
    "    for index, x in enumerate([sma,ema,wma]):\n",
    "        x = x.to_frame()\n",
    "        x.columns=[ma_columns[index]]\n",
    "        ma_df = pd.concat([ma_df,x],join='outer',axis=1)\n",
    "    return ma_df"
   ]
  },
  {
   "cell_type": "code",
   "execution_count": 55,
   "metadata": {
    "tags": []
   },
   "outputs": [
    {
     "output_type": "stream",
     "name": "stdout",
     "text": "sma_5      ema_5      wma_5\nDate                                       \n2000-01-04        NaN        NaN        NaN\n2000-01-05        NaN        NaN        NaN\n2000-01-06        NaN        NaN        NaN\n2000-01-07        NaN        NaN        NaN\n2000-01-10  18.226780  18.226780  18.198680\n...               ...        ...        ...\n2020-08-04  45.150000  45.141546  45.170001\n2020-08-05  45.430000  45.577698  45.603334\n2020-08-06  45.790001  46.101799  46.176668\n2020-08-07  46.210001  46.434532  46.613334\n2020-08-10  46.550001  46.506355  46.760001\n\n[5044 rows x 3 columns]\n"
    }
   ],
   "source": [
    "print(ma_by_day(5,df))"
   ]
  },
  {
   "cell_type": "code",
   "execution_count": 56,
   "metadata": {},
   "outputs": [],
   "source": [
    "ma_days = [5,10,25,50,60,300]"
   ]
  },
  {
   "cell_type": "code",
   "execution_count": 57,
   "metadata": {},
   "outputs": [],
   "source": [
    "for i in ma_days:\n",
    "   summary_df = pd.concat([summary_df, ma_by_day(i,df)], join='outer',axis=1)\n"
   ]
  },
  {
   "cell_type": "code",
   "execution_count": 58,
   "metadata": {},
   "outputs": [],
   "source": [
    "summary_df = summary_df.fillna(0)"
   ]
  },
  {
   "cell_type": "code",
   "execution_count": 60,
   "metadata": {},
   "outputs": [],
   "source": [
    "summary_df.to_csv('./selected_stock.csv',encoding='utf-8-sig')"
   ]
  },
  {
   "cell_type": "code",
   "execution_count": 35,
   "metadata": {},
   "outputs": [],
   "source": [
    "client.copy_from_local('./selected_stock.csv','/user/spark/stock/FC/tmp/selected_stock.csv')\n"
   ]
  },
  {
   "cell_type": "code",
   "execution_count": null,
   "metadata": {},
   "outputs": [],
   "source": []
  }
 ],
 "metadata": {
  "kernelspec": {
   "name": "python_defaultSpec_1600151062718",
   "display_name": "Python 3.7.7 64-bit ('stock': conda)"
  }
 },
 "nbformat": 4,
 "nbformat_minor": 4
}