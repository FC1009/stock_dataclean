{
 "metadata": {
  "language_info": {
   "codemirror_mode": {
    "name": "ipython",
    "version": 3
   },
   "file_extension": ".py",
   "mimetype": "text/x-python",
   "name": "python",
   "nbconvert_exporter": "python",
   "pygments_lexer": "ipython3",
   "version": "3.7.7-final"
  },
  "orig_nbformat": 2,
  "kernelspec": {
   "name": "python_defaultSpec_1600151053637",
   "display_name": "Python 3.7.7 64-bit ('stock': conda)"
  }
 },
 "nbformat": 4,
 "nbformat_minor": 2,
 "cells": [
  {
   "cell_type": "code",
   "execution_count": 1,
   "metadata": {},
   "outputs": [],
   "source": [
    "import pandas as pd"
   ]
  },
  {
   "cell_type": "code",
   "execution_count": 7,
   "metadata": {},
   "outputs": [
    {
     "output_type": "execute_result",
     "data": {
      "text/plain": "      證券代號     證券名稱\n0     0050   元大台灣50\n1     0051  元大中型100\n2     0052     富邦科技\n3     0053     元大電子\n4     0054   元大台商50\n...    ...      ...\n1112  9944       新麗\n1113  9945      潤泰新\n1114  9946     三發地產\n1115  9955       佳龍\n1116  9958      世紀鋼\n\n[1117 rows x 2 columns]",
      "text/html": "<div>\n<style scoped>\n    .dataframe tbody tr th:only-of-type {\n        vertical-align: middle;\n    }\n\n    .dataframe tbody tr th {\n        vertical-align: top;\n    }\n\n    .dataframe thead th {\n        text-align: right;\n    }\n</style>\n<table border=\"1\" class=\"dataframe\">\n  <thead>\n    <tr style=\"text-align: right;\">\n      <th></th>\n      <th>證券代號</th>\n      <th>證券名稱</th>\n    </tr>\n  </thead>\n  <tbody>\n    <tr>\n      <th>0</th>\n      <td>0050</td>\n      <td>元大台灣50</td>\n    </tr>\n    <tr>\n      <th>1</th>\n      <td>0051</td>\n      <td>元大中型100</td>\n    </tr>\n    <tr>\n      <th>2</th>\n      <td>0052</td>\n      <td>富邦科技</td>\n    </tr>\n    <tr>\n      <th>3</th>\n      <td>0053</td>\n      <td>元大電子</td>\n    </tr>\n    <tr>\n      <th>4</th>\n      <td>0054</td>\n      <td>元大台商50</td>\n    </tr>\n    <tr>\n      <th>...</th>\n      <td>...</td>\n      <td>...</td>\n    </tr>\n    <tr>\n      <th>1112</th>\n      <td>9944</td>\n      <td>新麗</td>\n    </tr>\n    <tr>\n      <th>1113</th>\n      <td>9945</td>\n      <td>潤泰新</td>\n    </tr>\n    <tr>\n      <th>1114</th>\n      <td>9946</td>\n      <td>三發地產</td>\n    </tr>\n    <tr>\n      <th>1115</th>\n      <td>9955</td>\n      <td>佳龍</td>\n    </tr>\n    <tr>\n      <th>1116</th>\n      <td>9958</td>\n      <td>世紀鋼</td>\n    </tr>\n  </tbody>\n</table>\n<p>1117 rows × 2 columns</p>\n</div>"
     },
     "metadata": {},
     "execution_count": 7
    }
   ],
   "source": [
    "id_df = pd.read_csv('./stock_id.csv',encoding='utf-8')\n",
    "id_df"
   ]
  },
  {
   "cell_type": "code",
   "execution_count": 8,
   "metadata": {},
   "outputs": [],
   "source": [
    "id_df1 = id_df.iloc[144:]"
   ]
  },
  {
   "cell_type": "code",
   "execution_count": 10,
   "metadata": {},
   "outputs": [],
   "source": [
    "id_df1.to_csv('./stock_id_selected.csv',encoding='utf-8')"
   ]
  },
  {
   "cell_type": "code",
   "execution_count": null,
   "metadata": {},
   "outputs": [],
   "source": []
  }
 ]
}